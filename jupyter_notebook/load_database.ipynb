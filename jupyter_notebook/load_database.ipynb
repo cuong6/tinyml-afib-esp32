{
 "cells": [
  {
   "cell_type": "markdown",
   "id": "64e6b84d",
   "metadata": {},
   "source": [
    "Setting path of database"
   ]
  },
  {
   "cell_type": "code",
   "execution_count": null,
   "id": "21164aa9",
   "metadata": {
    "vscode": {
     "languageId": "plaintext"
    }
   },
   "outputs": [],
   "source": [
    "import os, ast, numpy as np, pandas as pd, wfdb\n",
    "from scipy.signal import butter, filtfilt\n",
    "import matplotlib.pyplot as plt\n",
    "from sklearn.metrics import accuracy_score, f1_score, confusion_matrix, classification_report\n",
    "\n",
    "# === SỬA đường dẫn này cho đúng máy của bạn ===\n",
    "PTBXL_ROOT = \"../database/physionet.org/files/ptb-xl/1.0.1\"  # nhớ sửa <user>\n",
    "METADATA_CSV = os.path.join(PTBXL_ROOT, \"ptbxl_database.csv\")  # metadata\n",
    "# 100 Hz dùng cột filename_lr, sẽ join với PTBXL_ROOT nên không cần WFDB_DIR riêng\n",
    "\n",
    "assert os.path.exists(METADATA_CSV), \"Sai đường dẫn METADATA_CSV\"\n"
   ]
  }
 ],
 "metadata": {
  "kernelspec": {
   "display_name": "afib311",
   "language": "python",
   "name": "python3"
  },
  "language_info": {
   "name": "python",
   "version": "3.11.9"
  }
 },
 "nbformat": 4,
 "nbformat_minor": 5
}
